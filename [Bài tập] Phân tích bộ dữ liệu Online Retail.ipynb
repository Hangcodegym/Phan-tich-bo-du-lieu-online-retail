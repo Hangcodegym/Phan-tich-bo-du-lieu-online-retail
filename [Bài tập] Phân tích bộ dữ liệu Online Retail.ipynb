{
 "cells": [
  {
   "cell_type": "code",
   "execution_count": 17,
   "id": "e7a62ac0",
   "metadata": {},
   "outputs": [],
   "source": [
    "# khai báo thư viện cần dùng:\n",
    "import pandas as pd\n",
    "import seaborn as sns\n",
    "import matplotlib.pyplot as plt\n",
    "import numpy as np\n",
    "from sklearn.preprocessing import MinMaxScaler, RobustScaler, StandardScaler"
   ]
  },
  {
   "cell_type": "code",
   "execution_count": 4,
   "id": "80cf927e",
   "metadata": {
    "scrolled": true
   },
   "outputs": [
    {
     "data": {
      "text/html": [
       "<div>\n",
       "<style scoped>\n",
       "    .dataframe tbody tr th:only-of-type {\n",
       "        vertical-align: middle;\n",
       "    }\n",
       "\n",
       "    .dataframe tbody tr th {\n",
       "        vertical-align: top;\n",
       "    }\n",
       "\n",
       "    .dataframe thead th {\n",
       "        text-align: right;\n",
       "    }\n",
       "</style>\n",
       "<table border=\"1\" class=\"dataframe\">\n",
       "  <thead>\n",
       "    <tr style=\"text-align: right;\">\n",
       "      <th></th>\n",
       "      <th>Unnamed: 0</th>\n",
       "      <th>InvoiceNo</th>\n",
       "      <th>StockCode</th>\n",
       "      <th>Description</th>\n",
       "      <th>Quantity</th>\n",
       "      <th>InvoiceDate</th>\n",
       "      <th>UnitPrice</th>\n",
       "      <th>CustomerID</th>\n",
       "      <th>Country</th>\n",
       "    </tr>\n",
       "  </thead>\n",
       "  <tbody>\n",
       "    <tr>\n",
       "      <th>0</th>\n",
       "      <td>0</td>\n",
       "      <td>536365</td>\n",
       "      <td>85123A</td>\n",
       "      <td>WHITE HANGING HEART T-LIGHT HOLDER</td>\n",
       "      <td>6</td>\n",
       "      <td>12/1/2010 8:26</td>\n",
       "      <td>2.55</td>\n",
       "      <td>17850.0</td>\n",
       "      <td>United Kingdom</td>\n",
       "    </tr>\n",
       "    <tr>\n",
       "      <th>1</th>\n",
       "      <td>1</td>\n",
       "      <td>536365</td>\n",
       "      <td>71053</td>\n",
       "      <td>WHITE METAL LANTERN</td>\n",
       "      <td>6</td>\n",
       "      <td>12/1/2010 8:26</td>\n",
       "      <td>3.39</td>\n",
       "      <td>17850.0</td>\n",
       "      <td>United Kingdom</td>\n",
       "    </tr>\n",
       "    <tr>\n",
       "      <th>2</th>\n",
       "      <td>2</td>\n",
       "      <td>536365</td>\n",
       "      <td>84406B</td>\n",
       "      <td>CREAM CUPID HEARTS COAT HANGER</td>\n",
       "      <td>8</td>\n",
       "      <td>12/1/2010 8:26</td>\n",
       "      <td>2.75</td>\n",
       "      <td>17850.0</td>\n",
       "      <td>United Kingdom</td>\n",
       "    </tr>\n",
       "    <tr>\n",
       "      <th>3</th>\n",
       "      <td>3</td>\n",
       "      <td>536365</td>\n",
       "      <td>84029G</td>\n",
       "      <td>KNITTED UNION FLAG HOT WATER BOTTLE</td>\n",
       "      <td>6</td>\n",
       "      <td>12/1/2010 8:26</td>\n",
       "      <td>3.39</td>\n",
       "      <td>17850.0</td>\n",
       "      <td>United Kingdom</td>\n",
       "    </tr>\n",
       "    <tr>\n",
       "      <th>4</th>\n",
       "      <td>4</td>\n",
       "      <td>536365</td>\n",
       "      <td>84029E</td>\n",
       "      <td>RED WOOLLY HOTTIE WHITE HEART.</td>\n",
       "      <td>6</td>\n",
       "      <td>12/1/2010 8:26</td>\n",
       "      <td>3.39</td>\n",
       "      <td>17850.0</td>\n",
       "      <td>United Kingdom</td>\n",
       "    </tr>\n",
       "  </tbody>\n",
       "</table>\n",
       "</div>"
      ],
      "text/plain": [
       "   Unnamed: 0 InvoiceNo StockCode                          Description  \\\n",
       "0           0    536365    85123A   WHITE HANGING HEART T-LIGHT HOLDER   \n",
       "1           1    536365     71053                  WHITE METAL LANTERN   \n",
       "2           2    536365    84406B       CREAM CUPID HEARTS COAT HANGER   \n",
       "3           3    536365    84029G  KNITTED UNION FLAG HOT WATER BOTTLE   \n",
       "4           4    536365    84029E       RED WOOLLY HOTTIE WHITE HEART.   \n",
       "\n",
       "   Quantity     InvoiceDate  UnitPrice  CustomerID         Country  \n",
       "0         6  12/1/2010 8:26       2.55     17850.0  United Kingdom  \n",
       "1         6  12/1/2010 8:26       3.39     17850.0  United Kingdom  \n",
       "2         8  12/1/2010 8:26       2.75     17850.0  United Kingdom  \n",
       "3         6  12/1/2010 8:26       3.39     17850.0  United Kingdom  \n",
       "4         6  12/1/2010 8:26       3.39     17850.0  United Kingdom  "
      ]
     },
     "execution_count": 4,
     "metadata": {},
     "output_type": "execute_result"
    }
   ],
   "source": [
    "# Đọc dữ liệu\n",
    "df=pd.read_csv('OnlineRetail.csv')\n",
    "df.head()"
   ]
  },
  {
   "cell_type": "code",
   "execution_count": 18,
   "id": "6a80d50f",
   "metadata": {},
   "outputs": [
    {
     "name": "stdout",
     "output_type": "stream",
     "text": [
      "<class 'pandas.core.frame.DataFrame'>\n",
      "RangeIndex: 541909 entries, 0 to 541908\n",
      "Data columns (total 9 columns):\n",
      " #   Column       Non-Null Count   Dtype  \n",
      "---  ------       --------------   -----  \n",
      " 0   Unnamed: 0   541909 non-null  int64  \n",
      " 1   InvoiceNo    541909 non-null  object \n",
      " 2   StockCode    541909 non-null  object \n",
      " 3   Description  541909 non-null  object \n",
      " 4   Quantity     541909 non-null  int64  \n",
      " 5   InvoiceDate  541909 non-null  object \n",
      " 6   UnitPrice    541909 non-null  float64\n",
      " 7   CustomerID   406829 non-null  float64\n",
      " 8   Country      541909 non-null  object \n",
      "dtypes: float64(2), int64(2), object(5)\n",
      "memory usage: 37.2+ MB\n"
     ]
    }
   ],
   "source": [
    "# Thông tin dữ liệu\n",
    "df.info()"
   ]
  },
  {
   "cell_type": "code",
   "execution_count": 19,
   "id": "af88d226",
   "metadata": {},
   "outputs": [
    {
     "name": "stdout",
     "output_type": "stream",
     "text": [
      "Các cột chứa dữ liệu khuyết thiếu là:\n",
      "Cột CustomerID chứa 135080 giá trị KT\n",
      "Tổng số lượng dòng có chứa giá trị khuyết thiếu là:  135080\n"
     ]
    }
   ],
   "source": [
    "# Phát hiện các dòng, cột chứa dữ liệu khuyết thiếu\n",
    "#Các cột chứa giá trị khuyết thiếu\n",
    "print('Các cột chứa dữ liệu khuyết thiếu là:')\n",
    "for index, column in enumerate(df.columns):\n",
    "    temp = df.loc[:,column].isnull()\n",
    "    if temp.sum() > 0:\n",
    "        print('Cột', df.columns[index], 'chứa' , temp.sum() , 'giá trị KT')\n",
    "#Số lượng dòng chứa giá trị khuyết thiếu\n",
    "print('Tổng số lượng dòng có chứa giá trị khuyết thiếu là: ', df.shape[0] - df.dropna().shape[0])"
   ]
  },
  {
   "cell_type": "code",
   "execution_count": 20,
   "id": "1c9a6acb",
   "metadata": {},
   "outputs": [
    {
     "name": "stdout",
     "output_type": "stream",
     "text": [
      "Bởi vì số lượng dòng chứa giá trị khuyết thiếu rất nhiều, nên không thể xóa những dòng này\n"
     ]
    }
   ],
   "source": [
    "# Có nên xóa hết các dòng chứa dữ liệu khuyết thiếu, giải thích vì sao\n",
    "print('Bởi vì số lượng dòng chứa giá trị khuyết thiếu rất nhiều, nên không thể xóa những dòng này')"
   ]
  },
  {
   "cell_type": "markdown",
   "id": "43e0d702",
   "metadata": {},
   "source": [
    "##### Thực hiện xử lý giá trị khuyết thiếu: Thay thế giá trị khuyết thiếu của thuộc tính Description bằng giá trị mặc định “Không biết”"
   ]
  },
  {
   "cell_type": "code",
   "execution_count": 21,
   "id": "95808923",
   "metadata": {},
   "outputs": [],
   "source": [
    "df.loc[:,'Description'].fillna('Không biết', inplace=True)"
   ]
  },
  {
   "cell_type": "markdown",
   "id": "17903e5e",
   "metadata": {},
   "source": [
    "##### Thực hiện phát hiện giá trị ngoại lai của thuộc tính Quantity và Thuộc tính UnitPrice\n"
   ]
  },
  {
   "cell_type": "code",
   "execution_count": 23,
   "id": "5ea2dce7",
   "metadata": {},
   "outputs": [
    {
     "data": {
      "image/png": "[encoded data removed]",
      "text/plain": [
       "<Figure size 432x288 with 1 Axes>"
      ]
     },
     "metadata": {
      "needs_background": "light"
     },
     "output_type": "display_data"
    }
   ],
   "source": [
    "plt.hist(df['Quantity'], bins=100)\n",
    "plt.show()"
   ]
  },
  {
   "cell_type": "code",
   "execution_count": 24,
   "id": "f9b9a66f",
   "metadata": {},
   "outputs": [
    {
     "data": {
      "text/html": [
       "<div>\n",
       "<style scoped>\n",
       "    .dataframe tbody tr th:only-of-type {\n",
       "        vertical-align: middle;\n",
       "    }\n",
       "\n",
       "    .dataframe tbody tr th {\n",
       "        vertical-align: top;\n",
       "    }\n",
       "\n",
       "    .dataframe thead th {\n",
       "        text-align: right;\n",
       "    }\n",
       "</style>\n",
       "<table border=\"1\" class=\"dataframe\">\n",
       "  <thead>\n",
       "    <tr style=\"text-align: right;\">\n",
       "      <th></th>\n",
       "      <th>Unnamed: 0</th>\n",
       "      <th>InvoiceNo</th>\n",
       "      <th>StockCode</th>\n",
       "      <th>Description</th>\n",
       "      <th>Quantity</th>\n",
       "      <th>InvoiceDate</th>\n",
       "      <th>UnitPrice</th>\n",
       "      <th>CustomerID</th>\n",
       "      <th>Country</th>\n",
       "    </tr>\n",
       "  </thead>\n",
       "  <tbody>\n",
       "    <tr>\n",
       "      <th>0</th>\n",
       "      <td>0</td>\n",
       "      <td>536365</td>\n",
       "      <td>85123A</td>\n",
       "      <td>WHITE HANGING HEART T-LIGHT HOLDER</td>\n",
       "      <td>6</td>\n",
       "      <td>12/1/2010 8:26</td>\n",
       "      <td>2.55</td>\n",
       "      <td>17850.0</td>\n",
       "      <td>United Kingdom</td>\n",
       "    </tr>\n",
       "    <tr>\n",
       "      <th>1</th>\n",
       "      <td>1</td>\n",
       "      <td>536365</td>\n",
       "      <td>71053</td>\n",
       "      <td>WHITE METAL LANTERN</td>\n",
       "      <td>6</td>\n",
       "      <td>12/1/2010 8:26</td>\n",
       "      <td>3.39</td>\n",
       "      <td>17850.0</td>\n",
       "      <td>United Kingdom</td>\n",
       "    </tr>\n",
       "    <tr>\n",
       "      <th>2</th>\n",
       "      <td>2</td>\n",
       "      <td>536365</td>\n",
       "      <td>84406B</td>\n",
       "      <td>CREAM CUPID HEARTS COAT HANGER</td>\n",
       "      <td>8</td>\n",
       "      <td>12/1/2010 8:26</td>\n",
       "      <td>2.75</td>\n",
       "      <td>17850.0</td>\n",
       "      <td>United Kingdom</td>\n",
       "    </tr>\n",
       "    <tr>\n",
       "      <th>3</th>\n",
       "      <td>3</td>\n",
       "      <td>536365</td>\n",
       "      <td>84029G</td>\n",
       "      <td>KNITTED UNION FLAG HOT WATER BOTTLE</td>\n",
       "      <td>6</td>\n",
       "      <td>12/1/2010 8:26</td>\n",
       "      <td>3.39</td>\n",
       "      <td>17850.0</td>\n",
       "      <td>United Kingdom</td>\n",
       "    </tr>\n",
       "    <tr>\n",
       "      <th>4</th>\n",
       "      <td>4</td>\n",
       "      <td>536365</td>\n",
       "      <td>84029E</td>\n",
       "      <td>RED WOOLLY HOTTIE WHITE HEART.</td>\n",
       "      <td>6</td>\n",
       "      <td>12/1/2010 8:26</td>\n",
       "      <td>3.39</td>\n",
       "      <td>17850.0</td>\n",
       "      <td>United Kingdom</td>\n",
       "    </tr>\n",
       "    <tr>\n",
       "      <th>...</th>\n",
       "      <td>...</td>\n",
       "      <td>...</td>\n",
       "      <td>...</td>\n",
       "      <td>...</td>\n",
       "      <td>...</td>\n",
       "      <td>...</td>\n",
       "      <td>...</td>\n",
       "      <td>...</td>\n",
       "      <td>...</td>\n",
       "    </tr>\n",
       "    <tr>\n",
       "      <th>541904</th>\n",
       "      <td>541904</td>\n",
       "      <td>581587</td>\n",
       "      <td>22613</td>\n",
       "      <td>PACK OF 20 SPACEBOY NAPKINS</td>\n",
       "      <td>12</td>\n",
       "      <td>12/9/2011 12:50</td>\n",
       "      <td>0.85</td>\n",
       "      <td>12680.0</td>\n",
       "      <td>France</td>\n",
       "    </tr>\n",
       "    <tr>\n",
       "      <th>541905</th>\n",
       "      <td>541905</td>\n",
       "      <td>581587</td>\n",
       "      <td>22899</td>\n",
       "      <td>CHILDREN'S APRON DOLLY GIRL</td>\n",
       "      <td>6</td>\n",
       "      <td>12/9/2011 12:50</td>\n",
       "      <td>2.10</td>\n",
       "      <td>12680.0</td>\n",
       "      <td>France</td>\n",
       "    </tr>\n",
       "    <tr>\n",
       "      <th>541906</th>\n",
       "      <td>541906</td>\n",
       "      <td>581587</td>\n",
       "      <td>23254</td>\n",
       "      <td>CHILDRENS CUTLERY DOLLY GIRL</td>\n",
       "      <td>4</td>\n",
       "      <td>12/9/2011 12:50</td>\n",
       "      <td>4.15</td>\n",
       "      <td>12680.0</td>\n",
       "      <td>France</td>\n",
       "    </tr>\n",
       "    <tr>\n",
       "      <th>541907</th>\n",
       "      <td>541907</td>\n",
       "      <td>581587</td>\n",
       "      <td>23255</td>\n",
       "      <td>CHILDRENS CUTLERY CIRCUS PARADE</td>\n",
       "      <td>4</td>\n",
       "      <td>12/9/2011 12:50</td>\n",
       "      <td>4.15</td>\n",
       "      <td>12680.0</td>\n",
       "      <td>France</td>\n",
       "    </tr>\n",
       "    <tr>\n",
       "      <th>541908</th>\n",
       "      <td>541908</td>\n",
       "      <td>581587</td>\n",
       "      <td>22138</td>\n",
       "      <td>BAKING SET 9 PIECE RETROSPOT</td>\n",
       "      <td>3</td>\n",
       "      <td>12/9/2011 12:50</td>\n",
       "      <td>4.95</td>\n",
       "      <td>12680.0</td>\n",
       "      <td>France</td>\n",
       "    </tr>\n",
       "  </tbody>\n",
       "</table>\n",
       "<p>531285 rows × 9 columns</p>\n",
       "</div>"
      ],
      "text/plain": [
       "        Unnamed: 0 InvoiceNo StockCode                          Description  \\\n",
       "0                0    536365    85123A   WHITE HANGING HEART T-LIGHT HOLDER   \n",
       "1                1    536365     71053                  WHITE METAL LANTERN   \n",
       "2                2    536365    84406B       CREAM CUPID HEARTS COAT HANGER   \n",
       "3                3    536365    84029G  KNITTED UNION FLAG HOT WATER BOTTLE   \n",
       "4                4    536365    84029E       RED WOOLLY HOTTIE WHITE HEART.   \n",
       "...            ...       ...       ...                                  ...   \n",
       "541904      541904    581587     22613          PACK OF 20 SPACEBOY NAPKINS   \n",
       "541905      541905    581587     22899         CHILDREN'S APRON DOLLY GIRL    \n",
       "541906      541906    581587     23254        CHILDRENS CUTLERY DOLLY GIRL    \n",
       "541907      541907    581587     23255      CHILDRENS CUTLERY CIRCUS PARADE   \n",
       "541908      541908    581587     22138        BAKING SET 9 PIECE RETROSPOT    \n",
       "\n",
       "        Quantity      InvoiceDate  UnitPrice  CustomerID         Country  \n",
       "0              6   12/1/2010 8:26       2.55     17850.0  United Kingdom  \n",
       "1              6   12/1/2010 8:26       3.39     17850.0  United Kingdom  \n",
       "2              8   12/1/2010 8:26       2.75     17850.0  United Kingdom  \n",
       "3              6   12/1/2010 8:26       3.39     17850.0  United Kingdom  \n",
       "4              6   12/1/2010 8:26       3.39     17850.0  United Kingdom  \n",
       "...          ...              ...        ...         ...             ...  \n",
       "541904        12  12/9/2011 12:50       0.85     12680.0          France  \n",
       "541905         6  12/9/2011 12:50       2.10     12680.0          France  \n",
       "541906         4  12/9/2011 12:50       4.15     12680.0          France  \n",
       "541907         4  12/9/2011 12:50       4.15     12680.0          France  \n",
       "541908         3  12/9/2011 12:50       4.95     12680.0          France  \n",
       "\n",
       "[531285 rows x 9 columns]"
      ]
     },
     "execution_count": 24,
     "metadata": {},
     "output_type": "execute_result"
    }
   ],
   "source": [
    "df2=df[df['Quantity']>0]\n",
    "df2"
   ]
  },
  {
   "cell_type": "code",
   "execution_count": 25,
   "id": "8ca9b2a4",
   "metadata": {},
   "outputs": [
    {
     "data": {
      "image/png": "[encoded data removed]",
      "text/plain": [
       "<Figure size 432x288 with 1 Axes>"
      ]
     },
     "metadata": {
      "needs_background": "light"
     },
     "output_type": "display_data"
    }
   ],
   "source": [
    "plt.hist(df2['Quantity'], bins=100)\n",
    "plt.show()"
   ]
  },
  {
   "cell_type": "code",
   "execution_count": 30,
   "id": "006e4d6d",
   "metadata": {},
   "outputs": [
    {
     "name": "stdout",
     "output_type": "stream",
     "text": [
      "upper bound quantity:28.0\n",
      "lower bound quantity:-17.0\n",
      "9         32\n",
      "31        48\n",
      "44        36\n",
      "46        80\n",
      "65        32\n",
      "          ..\n",
      "541835    40\n",
      "541865    40\n",
      "541866    36\n",
      "541867    72\n",
      "541868    48\n",
      "Name: Quantity, Length: 27105, dtype: int64\n",
      "27105\n"
     ]
    },
    {
     "data": {
      "image/png": "[encoded data removed]",
      "text/plain": [
       "<Figure size 432x288 with 1 Axes>"
      ]
     },
     "metadata": {
      "needs_background": "light"
     },
     "output_type": "display_data"
    }
   ],
   "source": [
    "# ngoại lai của thuộc tính Quantity:\n",
    "Q1_quantity=df2.loc[:,'Quantity'].quantile(0.25, 'linear')\n",
    "Q3_quantity=df2.loc[:,'Quantity'].quantile(0.75)\n",
    "IQR_quantity=Q3_quantity-Q1_quantity\n",
    "upper_quantity=(Q3_quantity+2*IQR_quantity)\n",
    "print(f'upper bound quantity:{upper_quantity}')\n",
    "lower_quantity=(Q1_quantity-2*IQR_quantity)\n",
    "print(f'lower bound quantity:{lower_quantity}')\n",
    "\n",
    "df3 = df2.loc[:,:][(df2['Quantity']<upper_quantity)&(df2['Quantity']>lower_quantity)]\n",
    "\n",
    "sns.boxplot(x=df2['Quantity']) \n",
    "print(df2.loc[:,'Quantity'][(df2['Quantity']>upper_quantity)|(df2['Quantity']<lower_quantity)])\n",
    "print(df2.loc[:,'Quantity'][(df2['Quantity']>upper_quantity)|(df2['Quantity']<lower_quantity)].count())"
   ]
  },
  {
   "cell_type": "code",
   "execution_count": 28,
   "id": "9958b9eb",
   "metadata": {},
   "outputs": [
    {
     "data": {
      "image/png": "[encoded data removed]",
      "text/plain": [
       "<Figure size 432x288 with 1 Axes>"
      ]
     },
     "metadata": {
      "needs_background": "light"
     },
     "output_type": "display_data"
    }
   ],
   "source": [
    "plt.hist(df3['Quantity'], bins=10)\n",
    "plt.show()"
   ]
  },
  {
   "cell_type": "code",
   "execution_count": 31,
   "id": "e054ace8",
   "metadata": {},
   "outputs": [
    {
     "data": {
      "image/png": "[encoded data removed]",
      "text/plain": [
       "<Figure size 432x288 with 1 Axes>"
      ]
     },
     "metadata": {
      "needs_background": "light"
     },
     "output_type": "display_data"
    }
   ],
   "source": [
    "plt.hist(df['UnitPrice'], bins=10)\n",
    "plt.show()"
   ]
  },
  {
   "cell_type": "code",
   "execution_count": 32,
   "id": "3cbc7923",
   "metadata": {},
   "outputs": [
    {
     "data": {
      "text/html": [
       "<div>\n",
       "<style scoped>\n",
       "    .dataframe tbody tr th:only-of-type {\n",
       "        vertical-align: middle;\n",
       "    }\n",
       "\n",
       "    .dataframe tbody tr th {\n",
       "        vertical-align: top;\n",
       "    }\n",
       "\n",
       "    .dataframe thead th {\n",
       "        text-align: right;\n",
       "    }\n",
       "</style>\n",
       "<table border=\"1\" class=\"dataframe\">\n",
       "  <thead>\n",
       "    <tr style=\"text-align: right;\">\n",
       "      <th></th>\n",
       "      <th>Unnamed: 0</th>\n",
       "      <th>InvoiceNo</th>\n",
       "      <th>StockCode</th>\n",
       "      <th>Description</th>\n",
       "      <th>Quantity</th>\n",
       "      <th>InvoiceDate</th>\n",
       "      <th>UnitPrice</th>\n",
       "      <th>CustomerID</th>\n",
       "      <th>Country</th>\n",
       "    </tr>\n",
       "  </thead>\n",
       "  <tbody>\n",
       "    <tr>\n",
       "      <th>0</th>\n",
       "      <td>0</td>\n",
       "      <td>536365</td>\n",
       "      <td>85123A</td>\n",
       "      <td>WHITE HANGING HEART T-LIGHT HOLDER</td>\n",
       "      <td>6</td>\n",
       "      <td>12/1/2010 8:26</td>\n",
       "      <td>2.55</td>\n",
       "      <td>17850.0</td>\n",
       "      <td>United Kingdom</td>\n",
       "    </tr>\n",
       "    <tr>\n",
       "      <th>1</th>\n",
       "      <td>1</td>\n",
       "      <td>536365</td>\n",
       "      <td>71053</td>\n",
       "      <td>WHITE METAL LANTERN</td>\n",
       "      <td>6</td>\n",
       "      <td>12/1/2010 8:26</td>\n",
       "      <td>3.39</td>\n",
       "      <td>17850.0</td>\n",
       "      <td>United Kingdom</td>\n",
       "    </tr>\n",
       "    <tr>\n",
       "      <th>2</th>\n",
       "      <td>2</td>\n",
       "      <td>536365</td>\n",
       "      <td>84406B</td>\n",
       "      <td>CREAM CUPID HEARTS COAT HANGER</td>\n",
       "      <td>8</td>\n",
       "      <td>12/1/2010 8:26</td>\n",
       "      <td>2.75</td>\n",
       "      <td>17850.0</td>\n",
       "      <td>United Kingdom</td>\n",
       "    </tr>\n",
       "    <tr>\n",
       "      <th>3</th>\n",
       "      <td>3</td>\n",
       "      <td>536365</td>\n",
       "      <td>84029G</td>\n",
       "      <td>KNITTED UNION FLAG HOT WATER BOTTLE</td>\n",
       "      <td>6</td>\n",
       "      <td>12/1/2010 8:26</td>\n",
       "      <td>3.39</td>\n",
       "      <td>17850.0</td>\n",
       "      <td>United Kingdom</td>\n",
       "    </tr>\n",
       "    <tr>\n",
       "      <th>4</th>\n",
       "      <td>4</td>\n",
       "      <td>536365</td>\n",
       "      <td>84029E</td>\n",
       "      <td>RED WOOLLY HOTTIE WHITE HEART.</td>\n",
       "      <td>6</td>\n",
       "      <td>12/1/2010 8:26</td>\n",
       "      <td>3.39</td>\n",
       "      <td>17850.0</td>\n",
       "      <td>United Kingdom</td>\n",
       "    </tr>\n",
       "    <tr>\n",
       "      <th>...</th>\n",
       "      <td>...</td>\n",
       "      <td>...</td>\n",
       "      <td>...</td>\n",
       "      <td>...</td>\n",
       "      <td>...</td>\n",
       "      <td>...</td>\n",
       "      <td>...</td>\n",
       "      <td>...</td>\n",
       "      <td>...</td>\n",
       "    </tr>\n",
       "    <tr>\n",
       "      <th>541904</th>\n",
       "      <td>541904</td>\n",
       "      <td>581587</td>\n",
       "      <td>22613</td>\n",
       "      <td>PACK OF 20 SPACEBOY NAPKINS</td>\n",
       "      <td>12</td>\n",
       "      <td>12/9/2011 12:50</td>\n",
       "      <td>0.85</td>\n",
       "      <td>12680.0</td>\n",
       "      <td>France</td>\n",
       "    </tr>\n",
       "    <tr>\n",
       "      <th>541905</th>\n",
       "      <td>541905</td>\n",
       "      <td>581587</td>\n",
       "      <td>22899</td>\n",
       "      <td>CHILDREN'S APRON DOLLY GIRL</td>\n",
       "      <td>6</td>\n",
       "      <td>12/9/2011 12:50</td>\n",
       "      <td>2.10</td>\n",
       "      <td>12680.0</td>\n",
       "      <td>France</td>\n",
       "    </tr>\n",
       "    <tr>\n",
       "      <th>541906</th>\n",
       "      <td>541906</td>\n",
       "      <td>581587</td>\n",
       "      <td>23254</td>\n",
       "      <td>CHILDRENS CUTLERY DOLLY GIRL</td>\n",
       "      <td>4</td>\n",
       "      <td>12/9/2011 12:50</td>\n",
       "      <td>4.15</td>\n",
       "      <td>12680.0</td>\n",
       "      <td>France</td>\n",
       "    </tr>\n",
       "    <tr>\n",
       "      <th>541907</th>\n",
       "      <td>541907</td>\n",
       "      <td>581587</td>\n",
       "      <td>23255</td>\n",
       "      <td>CHILDRENS CUTLERY CIRCUS PARADE</td>\n",
       "      <td>4</td>\n",
       "      <td>12/9/2011 12:50</td>\n",
       "      <td>4.15</td>\n",
       "      <td>12680.0</td>\n",
       "      <td>France</td>\n",
       "    </tr>\n",
       "    <tr>\n",
       "      <th>541908</th>\n",
       "      <td>541908</td>\n",
       "      <td>581587</td>\n",
       "      <td>22138</td>\n",
       "      <td>BAKING SET 9 PIECE RETROSPOT</td>\n",
       "      <td>3</td>\n",
       "      <td>12/9/2011 12:50</td>\n",
       "      <td>4.95</td>\n",
       "      <td>12680.0</td>\n",
       "      <td>France</td>\n",
       "    </tr>\n",
       "  </tbody>\n",
       "</table>\n",
       "<p>503067 rows × 9 columns</p>\n",
       "</div>"
      ],
      "text/plain": [
       "        Unnamed: 0 InvoiceNo StockCode                          Description  \\\n",
       "0                0    536365    85123A   WHITE HANGING HEART T-LIGHT HOLDER   \n",
       "1                1    536365     71053                  WHITE METAL LANTERN   \n",
       "2                2    536365    84406B       CREAM CUPID HEARTS COAT HANGER   \n",
       "3                3    536365    84029G  KNITTED UNION FLAG HOT WATER BOTTLE   \n",
       "4                4    536365    84029E       RED WOOLLY HOTTIE WHITE HEART.   \n",
       "...            ...       ...       ...                                  ...   \n",
       "541904      541904    581587     22613          PACK OF 20 SPACEBOY NAPKINS   \n",
       "541905      541905    581587     22899         CHILDREN'S APRON DOLLY GIRL    \n",
       "541906      541906    581587     23254        CHILDRENS CUTLERY DOLLY GIRL    \n",
       "541907      541907    581587     23255      CHILDRENS CUTLERY CIRCUS PARADE   \n",
       "541908      541908    581587     22138        BAKING SET 9 PIECE RETROSPOT    \n",
       "\n",
       "        Quantity      InvoiceDate  UnitPrice  CustomerID         Country  \n",
       "0              6   12/1/2010 8:26       2.55     17850.0  United Kingdom  \n",
       "1              6   12/1/2010 8:26       3.39     17850.0  United Kingdom  \n",
       "2              8   12/1/2010 8:26       2.75     17850.0  United Kingdom  \n",
       "3              6   12/1/2010 8:26       3.39     17850.0  United Kingdom  \n",
       "4              6   12/1/2010 8:26       3.39     17850.0  United Kingdom  \n",
       "...          ...              ...        ...         ...             ...  \n",
       "541904        12  12/9/2011 12:50       0.85     12680.0          France  \n",
       "541905         6  12/9/2011 12:50       2.10     12680.0          France  \n",
       "541906         4  12/9/2011 12:50       4.15     12680.0          France  \n",
       "541907         4  12/9/2011 12:50       4.15     12680.0          France  \n",
       "541908         3  12/9/2011 12:50       4.95     12680.0          France  \n",
       "\n",
       "[503067 rows x 9 columns]"
      ]
     },
     "execution_count": 32,
     "metadata": {},
     "output_type": "execute_result"
    }
   ],
   "source": [
    "df4 = df3.loc[df3.loc[:,'UnitPrice']>0,:]\n",
    "df4"
   ]
  },
  {
   "cell_type": "code",
   "execution_count": 35,
   "id": "b209806c",
   "metadata": {},
   "outputs": [
    {
     "name": "stdout",
     "output_type": "stream",
     "text": [
      "upper bound quantity:8.45\n",
      "lower bound quantity:-3.0700000000000003\n",
      "16         9.95\n",
      "45        18.00\n",
      "151       14.95\n",
      "152       14.95\n",
      "153       16.95\n",
      "          ...  \n",
      "541768    18.00\n",
      "541786    11.95\n",
      "541831     8.50\n",
      "541849     9.95\n",
      "541892     8.95\n",
      "Name: UnitPrice, Length: 37694, dtype: float64\n",
      "37694\n"
     ]
    },
    {
     "data": {
      "image/png": "[encoded data removed]",
      "text/plain": [
       "<Figure size 432x288 with 1 Axes>"
      ]
     },
     "metadata": {
      "needs_background": "light"
     },
     "output_type": "display_data"
    }
   ],
   "source": [
    "# ngoại lai của thuộc tính UnitPrice:\n",
    "Q1_quantity=df4.loc[:,'UnitPrice'].quantile(0.25, 'linear')\n",
    "Q3_quantity=df4.loc[:,'UnitPrice'].quantile(0.75)\n",
    "IQR_quantity=Q3_quantity-Q1_quantity\n",
    "upper_quantity=(Q3_quantity+1.5*IQR_quantity)\n",
    "print(f'upper bound quantity:{upper_quantity}')\n",
    "lower_quantity=(Q1_quantity-1.5*IQR_quantity)\n",
    "print(f'lower bound quantity:{lower_quantity}')\n",
    "\n",
    "df5 = df4.loc[:,:][(df4['UnitPrice']<upper_quantity)&(df4['UnitPrice']>lower_quantity)]\n",
    "\n",
    "print(df4.loc[:,'UnitPrice'][(df4['UnitPrice']>upper_quantity)|(df4['UnitPrice']<lower_quantity)])\n",
    "print(df4.loc[:,'UnitPrice'][(df4['UnitPrice']>upper_quantity)|(df4['UnitPrice']<lower_quantity)].count())\n",
    "\n",
    "plt.hist(df5['UnitPrice'], bins=10)\n",
    "plt.show()"
   ]
  },
  {
   "cell_type": "code",
   "execution_count": 37,
   "id": "e259daa4",
   "metadata": {},
   "outputs": [
    {
     "name": "stdout",
     "output_type": "stream",
     "text": [
      "<class 'pandas.core.frame.DataFrame'>\n",
      "Int64Index: 465373 entries, 0 to 541908\n",
      "Data columns (total 9 columns):\n",
      " #   Column       Non-Null Count   Dtype  \n",
      "---  ------       --------------   -----  \n",
      " 0   Unnamed: 0   465373 non-null  int64  \n",
      " 1   InvoiceNo    465373 non-null  object \n",
      " 2   StockCode    465373 non-null  object \n",
      " 3   Description  465373 non-null  object \n",
      " 4   Quantity     465373 non-null  int64  \n",
      " 5   InvoiceDate  465373 non-null  object \n",
      " 6   UnitPrice    465373 non-null  float64\n",
      " 7   CustomerID   349736 non-null  float64\n",
      " 8   Country      465373 non-null  object \n",
      "dtypes: float64(2), int64(2), object(5)\n",
      "memory usage: 35.5+ MB\n"
     ]
    }
   ],
   "source": [
    "df5.info()"
   ]
  },
  {
   "cell_type": "code",
   "execution_count": 38,
   "id": "8a8f7860",
   "metadata": {
    "scrolled": true
   },
   "outputs": [
    {
     "data": {
      "image/png": "[encoded data removed]",
      "text/plain": [
       "<Figure size 432x288 with 1 Axes>"
      ]
     },
     "metadata": {
      "needs_background": "light"
     },
     "output_type": "display_data"
    },
    {
     "data": {
      "image/png": "[encoded data removed]",
      "text/plain": [
       "<Figure size 432x288 with 1 Axes>"
      ]
     },
     "metadata": {
      "needs_background": "light"
     },
     "output_type": "display_data"
    }
   ],
   "source": [
    "plt.hist(df5['Quantity'], bins=10)\n",
    "plt.show()\n",
    "\n",
    "plt.hist(df5['UnitPrice'], bins=10)\n",
    "plt.show()"
   ]
  },
  {
   "cell_type": "markdown",
   "id": "1a11597d",
   "metadata": {},
   "source": [
    "### Nhận xét dữ liệu:\n",
    "#### Đồ thị Quantity: Số lượng mặt hàng trong 1 đơn:\n",
    "##### Đồ thị biểu có 3 đỉnh==> có 3 khoảng giá trị số lượng đặt hàng là phổ biến\n",
    "##### Khách hàng đa phần mua lẻ số lượng ít từ 1 đến 5 đơn vị. nhóm thứ 2 số lượng khách không quá nhiều đặt khoảng từ 10 đến 15 đơn vị\n",
    "##### Nhóm 3 có một lượng nhỏ khách hàng mua đơn nhiều 20 đến 25 đơn vị mỗi đơn.\n"
   ]
  },
  {
   "cell_type": "markdown",
   "id": "cb40f003",
   "metadata": {},
   "source": [
    "####  Đồ thị Unit Price:\n",
    "##### Các sản phẩm đa phần trong mức giá thấp dưới 10 USD\n",
    "##### Phần nhiều nhất là sản phẩm giá rẻ trong khoảng 1 USD\n",
    "##### Các sản phẩm giá rẻ bán mỗi lần số lượng ít, mỗi đơn khoảng 5 pcs"
   ]
  }
 ],
 "metadata": {
  "kernelspec": {
   "display_name": "Python 3 (ipykernel)",
   "language": "python",
   "name": "python3"
  },
  "language_info": {
   "codemirror_mode": {
    "name": "ipython",
    "version": 3
   },
   "file_extension": ".py",
   "mimetype": "text/x-python",
   "name": "python",
   "nbconvert_exporter": "python",
   "pygments_lexer": "ipython3",
   "version": "3.9.12"
  }
 },
 "nbformat": 4,
 "nbformat_minor": 5
}
